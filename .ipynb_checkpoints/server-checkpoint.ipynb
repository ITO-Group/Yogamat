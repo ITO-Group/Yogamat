{
 "cells": [
  {
   "cell_type": "code",
   "execution_count": 39,
   "metadata": {},
   "outputs": [
    {
     "name": "stderr",
     "output_type": "stream",
     "text": [
      " * Running on http://0.0.0.0:5000/ (Press CTRL+C to quit)\n"
     ]
    }
   ],
   "source": [
    "from flask import Flask, request, jsonify\n",
    "app = Flask(__name__)\n",
    "\n",
    "file = open('0','w+')\n",
    "# Tell `app` that if someone asks for `/` (which is the main page)\n",
    "# then run this function, and send back the return value\n",
    "@app.route(\"/\")\n",
    "def hello():\n",
    "    return \"POST images to /mnistify\"\n",
    "\n",
    "@app.route(\"/\", methods=['POST'])\n",
    "def store():\n",
    "    data = request.json['data']\n",
    "    data = data.split(',')\n",
    "    file.write(data)\n",
    "    return jsonify({'result': 'ok'})\n",
    "\n",
    "app.run(host='0.0.0.0', port=5000)"
   ]
  },
  {
   "cell_type": "code",
   "execution_count": 1,
   "metadata": {},
   "outputs": [],
   "source": [
    "def convert(filename):\n",
    "    data0 = [data.strip() for data in open(filename,'r').readlines()];\n",
    "    data0 = np.array([[int(a) for a in data.split(',')] for data in data0]);\n",
    "    return data0"
   ]
  },
  {
   "cell_type": "code",
   "execution_count": 261,
   "metadata": {},
   "outputs": [],
   "source": [
    "import numpy as np\n",
    "filenames = ['0','1','2','3','4','5']\n",
    "trainX = []\n",
    "trainY = []\n",
    "testX = []\n",
    "testY = []\n",
    "ratio = 0.75\n",
    "for filename in filenames:\n",
    "    data = convert(filename);\n",
    "    num = int(data.shape[0]*ratio)\n",
    "    train_x = data[:num,1:]\n",
    "    train_y = data[:num,0]\n",
    "    test_x = data[num:,1:]\n",
    "    test_y = data[num:,0]\n",
    "    trainX.extend(train_x)\n",
    "    trainY.extend(train_y)\n",
    "    testX.extend(test_x)\n",
    "    testY.extend(test_y)\n",
    "trainX = np.array(trainX)\n",
    "trainY = np.array(trainY)\n",
    "testX = np.array(testX)\n",
    "testY = np.array(testY)"
   ]
  },
  {
   "cell_type": "code",
   "execution_count": 262,
   "metadata": {
    "scrolled": true
   },
   "outputs": [
    {
     "data": {
      "text/plain": [
       "LGBMClassifier(boosting_type='gbdt', class_weight=None, colsample_bytree=1.0,\n",
       "        learning_rate=0.1, max_depth=-1, min_child_samples=20,\n",
       "        min_child_weight=0.001, min_split_gain=0.0, n_estimators=100,\n",
       "        n_jobs=-1, num_leaves=31, objective=None, random_state=None,\n",
       "        reg_alpha=0.0, reg_lambda=0.0, silent=True, subsample=1.0,\n",
       "        subsample_for_bin=200000, subsample_freq=1)"
      ]
     },
     "execution_count": 262,
     "metadata": {},
     "output_type": "execute_result"
    }
   ],
   "source": [
    "from sklearn.naive_bayes import GaussianNB\n",
    "from xgboost.sklearn import XGBClassifier\n",
    "import lightgbm as lgb\n",
    "# clf = XGBClassifier(n_estimators=100,learning_rate=0.1)\n",
    "# clf = GaussianNB()\n",
    "clf = lgb.LGBMClassifier()\n",
    "clf.fit(trainX,trainY)"
   ]
  },
  {
   "cell_type": "code",
   "execution_count": 263,
   "metadata": {},
   "outputs": [
    {
     "name": "stdout",
     "output_type": "stream",
     "text": [
      "0.643776824034\n"
     ]
    }
   ],
   "source": [
    "pred = clf.predict(testX)\n",
    "from sklearn.metrics import accuracy_score,precision_score\n",
    "print(accuracy_score(testY,pred))"
   ]
  },
  {
   "cell_type": "code",
   "execution_count": null,
   "metadata": {},
   "outputs": [],
   "source": [
    "from sklearn.externals import joblib"
   ]
  }
 ],
 "metadata": {
  "kernelspec": {
   "display_name": "Python 3",
   "language": "python",
   "name": "python3"
  },
  "language_info": {
   "codemirror_mode": {
    "name": "ipython",
    "version": 3
   },
   "file_extension": ".py",
   "mimetype": "text/x-python",
   "name": "python",
   "nbconvert_exporter": "python",
   "pygments_lexer": "ipython3",
   "version": "3.5.2"
  }
 },
 "nbformat": 4,
 "nbformat_minor": 2
}
